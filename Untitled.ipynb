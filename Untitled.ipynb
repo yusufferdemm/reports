{
 "cells": [
  {
   "cell_type": "markdown",
   "id": "0445cc7a",
   "metadata": {
    "toc": true
   },
   "source": [
    "<h1>Table of Contents<span class=\"tocSkip\"></span></h1>\n",
    "<div class=\"toc\"><ul class=\"toc-item\"><li><span><a href=\"#GRBL-Nedir?\" data-toc-modified-id=\"GRBL-Nedir?-1\">GRBL Nedir?</a></span></li><li><span><a href=\"#GRBL-Sürümleri\" data-toc-modified-id=\"GRBL-Sürümleri-2\">GRBL Sürümleri</a></span></li><li><span><a href=\"#GRBL-Hal-Nedir-?\" data-toc-modified-id=\"GRBL-Hal-Nedir-?-3\">GRBL Hal Nedir ?</a></span><ul class=\"toc-item\"><li><ul class=\"toc-item\"><li><span><a href=\"#Sorun;\" data-toc-modified-id=\"Sorun;-3.0.1\">Sorun;</a></span></li><li><span><a href=\"#Çözüm;\" data-toc-modified-id=\"Çözüm;-3.0.2\">Çözüm;</a></span></li></ul></li></ul></li><li><span><a href=\"#GRBL-Hal-Faydaları\" data-toc-modified-id=\"GRBL-Hal-Faydaları-4\">GRBL Hal Faydaları</a></span></li><li><span><a href=\"#grblHAL-Breakout-Boards\" data-toc-modified-id=\"grblHAL-Breakout-Boards-5\">grblHAL Breakout Boards</a></span><ul class=\"toc-item\"><li><span><a href=\"#Tennsy-(T41U5XBB)\" data-toc-modified-id=\"Tennsy-(T41U5XBB)-5.1\">Tennsy (T41U5XBB)</a></span><ul class=\"toc-item\"><li><span><a href=\"#Github-linki-:-https://github.com/phil-barrett/grblHAL-teensy-4.x/blob/master/T41U5XBB%20v207.pdf\" data-toc-modified-id=\"Github-linki-:-https://github.com/phil-barrett/grblHAL-teensy-4.x/blob/master/T41U5XBB%20v207.pdf-5.1.1\">Github linki : <a href=\"https://github.com/phil-barrett/grblHAL-teensy-4.x/blob/master/T41U5XBB%20v207.pdf\" rel=\"nofollow\" target=\"_blank\">https://github.com/phil-barrett/grblHAL-teensy-4.x/blob/master/T41U5XBB%20v207.pdf</a></a></span></li><li><span><a href=\"#Satış-Linki-:-https://www.tindie.com/products/philba/grblhal-bob-unkit-for-teensy-41-t41u5xbb/#product-reviews\" data-toc-modified-id=\"Satış-Linki-:-https://www.tindie.com/products/philba/grblhal-bob-unkit-for-teensy-41-t41u5xbb/#product-reviews-5.1.2\">Satış Linki : <a href=\"https://www.tindie.com/products/philba/grblhal-bob-unkit-for-teensy-41-t41u5xbb/#product-reviews\" rel=\"nofollow\" target=\"_blank\">https://www.tindie.com/products/philba/grblhal-bob-unkit-for-teensy-41-t41u5xbb/#product-reviews</a></a></span></li></ul></li><li><span><a href=\"#PicoCNC-(PU4XBB)\" data-toc-modified-id=\"PicoCNC-(PU4XBB)-5.2\">PicoCNC (PU4XBB)</a></span></li><li><span><a href=\"#grblHAL-kullanan-projeler\" data-toc-modified-id=\"grblHAL-kullanan-projeler-5.3\">grblHAL kullanan projeler</a></span></li></ul></li><li><span><a href=\"#grblHal-'-ı-kurabileceğimiz-alternatif-boardlar-(kolaylıkla)\" data-toc-modified-id=\"grblHal-'-ı-kurabileceğimiz-alternatif-boardlar-(kolaylıkla)-6\">grblHal ' ı kurabileceğimiz alternatif boardlar (kolaylıkla)</a></span></li><li><span><a href=\"#Hazır-Plunginleri-ve-Ekleme-yapabilme-olanağı-?\" data-toc-modified-id=\"Hazır-Plunginleri-ve-Ekleme-yapabilme-olanağı-?-7\">Hazır Plunginleri ve Ekleme yapabilme olanağı ?</a></span><ul class=\"toc-item\"><li><span><a href=\"#Pluginler-(özelliklerimizi-Nasıl-ekleriz)?\" data-toc-modified-id=\"Pluginler-(özelliklerimizi-Nasıl-ekleriz)?-7.1\">Pluginler (özelliklerimizi Nasıl ekleriz)?</a></span></li></ul></li></ul></div>"
   ]
  },
  {
   "cell_type": "markdown",
   "id": "a991285c",
   "metadata": {},
   "source": [
    "# GRBL Nedir?"
   ]
  },
  {
   "cell_type": "markdown",
   "id": "0a22e33c",
   "metadata": {},
   "source": [
    "GRBL, hareketli makinelerin hareketini kontrol etmek için kullanılan, şeyler üreten veya hareket ettiren makineleri kontrol etmek için kullanılan `ücretsiz` ve `açık kaynaklı`bir yazılımdır ve geniş bir yelpazedeki mikrodenetleyicilerde çalışır.\n",
    "\n",
    "\n",
    "__GRBL__, binlerce farklı `CNC router`, torna tezgahı, freze tezgahı, lazerler ve daha fazlasını güçlendirmek için kullanılır. Temel olarak açık kaynaklı CNC makineleri için standart haline gelmiştir."
   ]
  },
  {
   "cell_type": "markdown",
   "id": "03f00f1f",
   "metadata": {},
   "source": [
    "\n",
    "\n",
    "GRBL'nin ilk sürümü, 2009 yılında Simen Svale Skogsrud tarafından yayınlandı. Daha sonra Sungeun \"Sonny\" Jeon Ph.D tarafından devralındı ve Arduino mikrodenetleyici kart ailesinde çalışan oldukça yetenekli bir makine kontrol sistemi haline getirildi. \n",
    "\n",
    "\n",
    "Arduinolar üzerindeki ``8-bit Atmel`` işlemcilerini son derece verimli bir şekilde kullanır ve böyle alçak kapasiteli bir işlemciden bu kadar fazla veri alabilmek, yazılım mühendisliğinin etkileyici bir başarısıdır.\n",
    "Ne yazık ki! GRBL, Atmel işlemcilerinin sınırlarına ulaşmıştır. Daha yüksek performans gerekmektedir ve küçük kod alanı, yeni özellikler eklemeyi kısıtlar. Ayrıca, Atmel işlemcileri, daha yeni 32 bit mikrodenetleyiciler tarafından kapasite, özellikler ve performans açısından büyük ölçüde geçilmiştir."
   ]
  },
  {
   "cell_type": "markdown",
   "id": "1cde1d1d",
   "metadata": {},
   "source": [
    "# GRBL Sürümleri \n",
    "GRBL'nin farklı sürümleri, geliştiriciler tarafından yapılan değişikliklere, eklemelere ve iyileştirmelere bağlı olarak farklı özellikleri ve yetenekleri içerebilir. Genelde yaygın olarak kullanılan ve bilinen sürümler şunlardır:\n",
    "\n",
    "|Sürüm|Açıklama|\n",
    "|-|-|\n",
    "|__GRBL 0.9:__| Bu, orijinal GRBL sürümüdür ve 3 eksenli CNC makineleri için tasarlanmıştır. Temel olarak XYZ hareketini kontrol eder. |\n",
    "|__GRBL 1.1:__| Bu sürüm, orijinal GRBL sürümünün geliştirilmiş ve güncellenmiş bir versiyonudur. Daha fazla özellik ve düzeltmeler içerir. 3 eksenli CNC makinelerinin yanı sıra 4. eksen (genellikle rote eksen) desteği sunabilir.|\n",
    "|__GRBL 1.1f (5X):__| Bu sürüm, 5 eksenli CNC makinelerini desteklemek için özelleştirilmiş bir sürümdür. XYZ hareketinin yanı sıra A ve B eksenlerini kontrol edebilir. Bu sürüm genellikle 5 eksenli CNC makineleri için kullanılır.\n",
    "|__GRBL-LPC:__| LPC176x tabanlı mikrodenetleyiciler için özel bir sürümdür. Daha yüksek performans ve daha fazla özellik sağlar.\n",
    "|__grblHAL:__| GRBL'nin 32-bit mikrodenetleyiciler üzerinde çalışması için tasarlanmış bir sürümüdür. Daha fazla hesaplama gücü ve daha kapsamlı özellikler sunar.|"
   ]
  },
  {
   "cell_type": "markdown",
   "id": "46b7628a",
   "metadata": {},
   "source": [
    "# GRBL Hal Nedir ?\n",
    "\n",
    "<img src=\"https://static.wixstatic.com/media/c35ea0_140b358666d54ef88473d8d69e257f83~mv2.png/v1/crop/x_0,y_7,w_1050,h_976/fill/w_452,h_420,al_c,q_85,usm_0.66_1.00_0.01,enc_auto/grblhal%20diagram.png\" alt=\"drawing\" width=\"300\"/>\n",
    "\n",
    "Son 5 yılda bir dizi yazılım geliştiricisi, ``8-bit`` GRBL'nin Arduino üzerinde sınırlarına ulaştığını fark etti. Bu geliştiriciler, özellikle `ARM` tabanlı mikrodenetleyiciler gibi ortaya çıkan uygun fiyatlı``32-bit`` makinelerden birine taşımayı hedeflediler.Bu taşıma işlemleri başarılı olmasına rağmen, GRBL dünyasının parçalanmasına neden olma riski taşıyordu.!\n",
    "\n",
    "### Sorun;\n",
    "\n",
    ">GRBL, Arduino'nun Atmel mikrodenetleyicisinden etkili bir şekilde yararlanmak üzere hassas bir şekilde ayarlanmıştı, bu nedenle __makineye özgü kod, makine bağımsız kodla iç içe geçmişti ve taşımak zorlaşmıştı__. Ayrıca, bir sürümde eklenen yeni özellikler veya düzeltilen hatalar diğer taşımalara da uygulanmalıydı.\n",
    "Kısa sürede bir taşımada diğerlerinde mevcut olmayan yeni özellikler ortaya çıktı. Tüm farklı 32-bit sürümlerin derlenebileceği bir ana kaynak yoktu. Yeni bir mikrodenetleyiciye geçmek veya aynı ailede farklı bir varyanta geçmek, GRBL'nin işleyişini derinlemesine anlamayı gerektiriyordu.\n",
    "Yetenekli ve ileri görüşlü bir Norveçli yazılım geliştiricisi olan Terje Io, bu durumu fark etti ve bu sorunun bir çözümü üzerinde çalışmaya başladı. "
   ]
  },
  {
   "cell_type": "markdown",
   "id": "cbabbbb7",
   "metadata": {},
   "source": [
    "### Çözüm;\n",
    "\n",
    "> GRBL'yi iki bölüme böldü: biri tüm işlemciye bağımlı kodu içeren - Donanım Soyutlama Katmanı (HAL), diğeri ise içermeyen - GRBL çekirdeği. Böylece, grblHAL doğdu. HAL, işlemciyi başlatan, zamanlayıcılar, PWM donanımı, bağlantı noktaları, pin adresleri, iletişimler gibi konularda bilgi içeren kodu içerir. GRBL çekirdeği yalnızca HAL ile etkileşimde bulunur. grblHAL'i yeni bir mikrodenetleyiciye taşımak, HAL katmanının görece küçük olması nedeniyle birkaç hafta veya bazı durumlarda günler alabilir. Ayrıca, tüm sürümler için GRBL çekirdeğine hata düzeltmeleri veya yeni özellikler eklemek mümkündür."
   ]
  },
  {
   "cell_type": "markdown",
   "id": "5061e932",
   "metadata": {},
   "source": [
    "# GRBL Hal Faydaları\n",
    "\n",
    "32-bit mikrodenetleyiciler üzerinde çalışan grblHAL, bir dizi avantaj sunar:\n",
    "\n",
    "- Daha yüksek performans. Orijinal Arduino 16 MHz hızında çalışırken, 32-bit ARM çipleri çok daha hızlı çalışabilir. Mevcut hızlar 40 MHz ila 600 MHz arasında değişir. 8-bit GRBL'nin maksimum adım hızı yaklaşık 30 kHz iken, grblHAL portları önemli ölçüde daha yüksek hızlarda çalışabilir. Kırık devre kartına bağlı olarak 250 kHz veya daha yükseği mümkündür.\n",
    "\n",
    "- Daha fazla bellek. Çok daha büyük program alanı, önemli ölçüde daha fazla özellik sağlar. 8-bit GRBL kodu genellikle Arduino UNO'ya sığması için özellikleri devre dışı bırakmak zorundaydı. grblHAL ile, 8-bit GRBL'den eksik olan standart GCode özellikleri eklenmiştir.\n",
    "\n",
    "- Düşük maliyet. grblHAL ücretsizdir ve üzerinde çalıştığı işlemciler çok ucuzdur. Rekabetçi ürünlerin donanım ve yazılım maliyetleri oldukça daha yüksektir.\n",
    "\n",
    "- Tutarlılık. Aynı özellikleri destekleyen tüm platformlarda GCode tutarlıdır. CAD/CAM uygulamaları, tüm grblHAL portlarında çalışan GCode oluşturmak için yalnızca bir varyant hedeflemesi gerekmektedir.\n",
    "\n",
    "- Yeni mikrodenetleyicilere ve desteklenen çip türlerinin farklı varyantlarına hızlı taşıma. Yeni bir işlemci için destek hızlı bir şekilde ekleyebilir. Örneğin, STM32F411 için destek sadece birkaç günde eklenmiştir.\n",
    "\n",
    "- grblHAL, bir eklenti mimarisine sahiptir. Bu, GRBL Çekirdeği'nde değişiklik yapmadan sürücüye yeni özellikler eklemeyi mümkün kılar. Eklentiler bir port için geliştirilebilir ve kolayca başka bir porta taşınabilir. SD kart desteği buna bir örnektir.\n",
    "\n",
    "- Daha üst düzey hareket denetleyicilerinden bir dizi özellik eklenmiştir, örneğin programlanmış döngüler, tam bir ofset kümesi gibi (örneğin M62-M65) çekirdek GRBL değişiklikleri yapmadan eklenmiştir.\n",
    "\n",
    "- Belirli uygulama ve makineler için özelliklerin kolayca özelleştirilmesi mümkündür.\n",
    "\n",
    "- Yeni özellikler ve hata düzeltmeleri, genellikle minimum çaba ile tüm portlarda mevcuttur.\n",
    "\n"
   ]
  },
  {
   "attachments": {},
   "cell_type": "markdown",
   "id": "9a6472d2",
   "metadata": {},
   "source": [
    "# grblHAL Breakout Boards\n",
    "\n",
    "grblHAL temelli 2 adet CNC denetleyici `breakout kartı` mevcuttur.\n",
    "\n",
    "\n",
    "| Feature         | Teensy (T41U5XBB) | PicoCNC (PU4XBB) | Arduino (Uno and Mega) |\n",
    "|-----------------|------------------|------------------|------------------------|\n",
    "| Axes            | 5                | 4                | 3 (Uno), 4 (Mega)      |\n",
    "| Moving Gantry   | Yes              | Yes              | Yes (split signal)     |\n",
    "| Auto-Square     | -                | -                | No                     |\n",
    "| Processor Speed | 600 MHz          | 125 MHz          | 16 MHz                 |\n",
    "| Step Rate       | >400 kHz         | >200 kHz         | approx 30 kHz          |\n",
    "| Comm            | USB, Ethernet    | USB, WiFi        | USB                    |\n",
    "| Homing/Limit Voltage | 5V            | 12V              | 5V                     |\n",
    "| Opto isolators  | Yes              | Yes              | No                     |\n",
    "| Firmware        | grblHAL for iMXRT 1062 | grblHAL for RP2040 | Grbl 1.1h       |\n",
    "| Configuration   | Web Builder      | Web Builder      | Arduino IDE, edit config.h |\n",
    "\n",
    "\n",
    "## Tennsy (T41U5XBB)\n",
    "\n",
    "<img src=\"https://static.wixstatic.com/media/c35ea0_27dc781c7dba4daf95ce21996d37ba4f~mv2.png/v1/fill/w_1200,h_990,al_c,q_90,usm_0.66_1.00_0.01,enc_auto/feature%20diagram.png![image.png](attachment:image.png)\" alt=\"drawing\" width=\"400\"/>\n",
    "\n",
    "Bu, bir grblHAL ve bir Teensy 4.1 ile birlikte kullanıldığında, routerlar, freze makineleri, lazerler ve tornalar gibi cihazlar için bir CNC hareket denetleyicisine dönüşen bir breakout kartıdır. grblHAL kullanarak, bu kart, diğer ürünlerde yüzlerce dolar ödemeniz gerekebilecek gelişmiş özelliklere sahip bir hareket kontrol sisteminin temelini oluşturur.\n",
    "\n",
    "\n",
    "<img src=\"https://static.wixstatic.com/media/c35ea0_79639657dc8243d6b4235555612d5d01~mv2.png/v1/fill/w_760,h_604,al_c,q_90,usm_0.66_1.00_0.01,enc_auto/wiring%20diagram%20full%202048.png\" alt=\"drawing\" width=\"400\"/>\n",
    "\n",
    "\n",
    "### Github linki : https://github.com/phil-barrett/grblHAL-teensy-4.x/blob/master/T41U5XBB%20v207.pdf\n",
    "\n",
    "### Satış Linki : https://www.tindie.com/products/philba/grblhal-bob-unkit-for-teensy-41-t41u5xbb/#product-reviews\n",
    "\n",
    "\n",
    "## PicoCNC (PU4XBB)\n",
    "\n",
    "<img src=\"https://static.wixstatic.com/media/c35ea0_e5856345676747f78d31b5a56fb4398b~mv2.jpg/v1/fill/w_476,h_474,al_c,q_80,usm_0.66_1.00_0.01,enc_auto/U7080836_DxO_DxO_2048.jpg\" alt=\"drawing\" width=\"400\"/>\n",
    "\n",
    "Bu, bir grblHAL ve bir Raspberry Pi Pico mikrodenetleyici ile birlikte kullanıldığında, routerlar, freze makineleri, lazerler ve tornalar gibi cihazlar için güçlü bir CNC hareket denetleyicisi oluşturan bir breakout kartıdır. grblHAL kullanarak, bu kart, gelişmiş özelliklere sahip bir hareket kontrol sisteminin temelini oluşturur.\n",
    "\n",
    "## grblHAL kullanan projeler \n",
    "<a href=\"https://ibb.co/ZKNK9kh\"><img src=\"https://i.ibb.co/82X2kSj/Screenshot-2023-08-18-at-15-42-43.png\" alt=\"Screenshot-2023-08-18-at-15-42-43\" border=\"0\"></a>"
   ]
  },
  {
   "cell_type": "markdown",
   "id": "7394e021",
   "metadata": {},
   "source": [
    "# grblHal ' ı kurabileceğimiz alternatif boardlar (kolaylıkla)\n",
    "\n",
    "| Controller                                          | Driver     | Web Builder |\n",
    "|-----------------------------------------------------|------------|-------------|\n",
    "| 6-Pack CNC Controller                              | ESP32      | Yes         |\n",
    "| Arduino Due with Arduino Due shield                | SAM3X8E    |             |\n",
    "| Arduino Due with G2core-DUE-External-Interfaces    | SAM3X8E    | Web Builder |\n",
    "| Arduino Due with Ramps 1.6                         | SAM3X8E    | Web Builder |\n",
    "| Bigtreetech SKR 2                                  | STM32F4xx  | Web Builder |\n",
    "| Bigtreetech SKR 3                                  | STM32H7xx  | Web Builder |\n",
    "| Bigtreetech SKR MINI E3 V2.0                      | STM32F1xx  | Web Builder |\n",
    "| Bigtreetech SKR Pico 1.0                          | RP2040     | Web Builder |\n",
    "| Bigtreetech SKR PRO                               | STM32F4xx  | Web Builder |\n",
    "| Bigtreetech SKR v1.3                              | LPC176x    |             |\n",
    "| Bigtreetech SKR V1.4 Turbo                        | LPC176x    |             |\n",
    "| CNC3040 with a Red/BluePill                      | STM32F1xx  | Web Builder |\n",
    "| EK-TM4C123GXL LaunchPad with CNC Boosterpack      | TM4C123    |             |\n",
    "| EK-TM4C1294XL LaunchPad with CNC Boosterpack      | TM4C1294   |             |\n",
    "| Expatria Technologies PicoBOB G540                | RP2040     | Web Builder |\n",
    "| Expatria Technologies PicoBOB                    | RP2040     | Web Builder |\n",
    "| Flexi-HAL                                          | STM32F4xx  | Web Builder |\n",
    "| Fysetc E4                                         | ESP32      | Web Builder |\n",
    "| Fysetc S6 V2                                      | STM32F4xx  | Web Builder |\n",
    "| Mach 3 USB BOB - BSMCE04U-PP1                    | STM32F1xx  | Web Builder |\n",
    "| Makerbase MKS-DLC32                               | ESP32      | Web Builder |\n",
    "| Makerbase MKS-DLC32                               | ESP32      | Web Builder |\n",
    "| MKS SBASE v1.3                                    | LPC176x    |             |\n",
    "| MSP430F5529 LaunchPad with CNC Boosterpack         | MSP430F5529|             |\n",
    "| MSP-EXP432E401Y LaunchPad with CNC Boosterpack    | MSP432E401Y|             |\n",
    "| MSP-EXP432P401R LaunchPad with CNC Boosterpack    | MSP432P401R|             |\n",
    "| Nucleo F411RE with Arduino v3 shield              | STM32F4xx  | Web Builder |\n",
    "| Nucleo F411RE with CNC Breakout Nucleo64          | STM32F4xx  | Web Builder |\n",
    "| Nucleo F411RE with Protoneer v3 shield           | STM32F4xx  | Web Builder |\n",
    "| Nucleo F446RE with Arduino v3 shield              | STM32F4xx  | Web Builder |\n",
    "| Nucleo F446RE with CNC Breakout Nucleo64          | STM32F4xx  | Web Builder |\n",
    "| Nucleo F446RE with Protoneer v3 shield           | STM32F4xx  | Web Builder |\n",
    "| OpenBuilds BlackBox X32                          | ESP32      | Web Builder |\n",
    "| Pi P\n"
   ]
  },
  {
   "cell_type": "markdown",
   "id": "c055c32c",
   "metadata": {},
   "source": [
    "# Hazır Plunginleri ve Ekleme yapabilme olanağı ?\n",
    "---\n",
    "\n",
    "grblHAL'ün HAL arayüzü, çekirdek grbl kodunu değiştirmeye gerek kalmadan işlevselliği eklemek için kullanılabilecek işlev işaretçilerine (function pointers) dayanmaktadır. Bunlar ayrıca çağrıları yönlendirmek için anlık olarak değiştirilebilir; örneğin, SD kart arayüzü, seri akıştan gelen girdiyi geçici olarak SD kartına yönlendirmek için bunu kullanır.\n",
    "\n",
    "| Fonksiyon           | Açıklama                                                                                     |\n",
    "|----------------------|----------------------------------------------------------------------------------------------|\n",
    "| EEPROM               | Harici bir EEPROM veya FRAM üzerinde ayarlar/verilerin kalıcı olarak depolanması için.     |\n",
    "| Encoder              | Aşırı yükleme ayarlamak için. Jog yapma desteği planlanmıştır.                              |\n",
    "| Keypad               | I2C tabanlı tuş takımı için. Jog yapma vb. işlevleri destekler. Bu, bir uygulama örneğidir. |\n",
    "| Networking           | Telnet veya websocket ile iletişim ve diğer birçok ağ protokolü için.                       |\n",
    "| Odometer             | Seyahat edilen mesafeleri ve işleme süresini kaydetmek için. NOT: İncelenmek üzere.         |\n",
    "| Plasma/THC           | Plazma makineleri için. NOT: Geliştirme aşamasında, testçilere ihtiyaç vardır.             |\n",
    "| SD kart              | SD kartta depolanan gcode'un yürütülmesi için.                                               |\n",
    "| Spindle              | MODBUS aracılığıyla kontrol edilen mil makineleri için. NOT: Henüz doğrulanmadı.           |\n",
    "| Trinamic             | SPI, UART veya I2C ile kontrol edilen Trinamic TMC2130, TMC2209 ve TMC5160 step motor sürücüleri için. |\n",
    "| Laser/PPI            | Lazer makineleri için. NOT: Geliştirme aşamasında, testçilere ihtiyaç vardır.             |\n",
    "| Laser/Coolant        | Lazer makineleri için. NOT: Geliştirme aşamasında, testçilere ihtiyaç vardır.             |\n",
    "| Laser/LigthBurn kümeleri | Lazer makineleri için. NOT: Geliştirme aşamasında, testçilere ihtiyaç vardır.         |\n",
    "| Fans                 | Fan kontrolü için.                                                                           |\n",
    "| Bluetooth            | Kablosuz iletişim için Bluetooth modülleri için. NOT: Önizleme sürümü.                      |\n",
    "| WebUI                | Bazı ağ yetenekli kartlar ve sürücüler için ESP32-WEBUI desteği ekler.                       |\n",
    "\n"
   ]
  },
  {
   "cell_type": "markdown",
   "id": "bed7ab6a",
   "metadata": {},
   "source": [
    "## Pluginler (özelliklerimizi Nasıl ekleriz)?\n",
    "\n",
    "Plugin Adı:\n",
    "\n",
    "Bir eklentiye \"resmi\" bir ad verilmelidir, böylece etkinleştirilebilir ve başlangıç dizisine eklenir.\n",
    "Bir #define sembolü `<AD> _ENABLE` ve buna karşılık gelen bir işlev `void <ad>_init(void` gereklidir, `<AD>`büyük harfle yazılmış adınızın ve``<ad`` ise küçük harfle yazılmış adınızın olması gerekmektedir.\n",
    "Başlangıçta init işlevine bir çağrı eklemek için bunun plugins_init.h dosyasına Ek Üçüncü taraf eklentisi bölümüne eklenmesi gerekir. plugins_init.h dosyasına eklemek için bir pull talebi oluşturun.\n",
    "Bir örnek:\n",
    "\n",
    "```C\n",
    "#if PROBE_RELAY_ENABLE\n",
    "    extern void probe_relay_init (void);\n",
    "    probe_relay_init();\n",
    "#endif\n",
    "\n",
    "\n",
    "\n",
    "```\n",
    "\n",
    "Eklentiyi yüklemek için kullanıcının kodu deposundan indirmesi ve sürücü.c dosyasının bulunduğu klasöre kopyalaması gerekmektedir. Ayrıca, sürücülerim_my_machine.h dosyasının içinde `#define sembolünü <AD> _ENABLE ` şeklinde eklemesi gerekmektedir.\n",
    "\n",
    "__Ek M kodları:__\n",
    "\n",
    "Eğer eklentiniz ek M kodları sağlıyorsa, bunlar repo readme ve eklenti kodunda belgelenmelidir. gcode.h'ye eklemek için bir pull talebi oluşturulabilir, özellikle Marlin tarafından tanımlananlarla benzer işlevlere sahipse kabul edilme olasılığı daha yüksektir. Kod içinde enum değerini doğrudan dönüştürmek de kabul edilebilir, ancak benzer Marlin listesindeki diğer eklentilerle çakışma riski biraz olabilir.\n",
    "\n",
    "__Ek $-ayarları:__\n",
    "\n",
    "Eklentiniz için gereken ayar numaraları çakışmaları önlemek için settings.h'ye eklenmelidir. Eğer böyle bir ihtiyaç varsa, önce bir tartışma başlatın çünkü bu konuda henüz net bir fikrim yok; sanırım bazı durumlarda çekirdek dışı ayarları kullanmak mümkün olmalı.\n",
    "\n",
    "Notlar:\n",
    "Sembol tanımı ayrıca derleyici komut satırına da eklenebilir, bazı IDE'ler bunu arayüzden yapmanıza olanak tanır.\n",
    "Üçüncü taraf eklenti isimlerinin sahibi yoktur, mevcut isimler benzer işlevselliği sağladığı sürece alternatif uygulamalarda kullanılabilir.\n",
    "Uygulamalar kendileri hakkında bilgi eklemelidir, bunu $I raporunda yapabilirsiniz; bu konuda şablonlardan birine bakabilirsiniz."
   ]
  },
  {
   "cell_type": "code",
   "execution_count": null,
   "id": "73a693d7",
   "metadata": {},
   "outputs": [],
   "source": []
  }
 ],
 "metadata": {
  "kernelspec": {
   "display_name": "Python 3 (ipykernel)",
   "language": "python",
   "name": "python3"
  },
  "language_info": {
   "codemirror_mode": {
    "name": "ipython",
    "version": 3
   },
   "file_extension": ".py",
   "mimetype": "text/x-python",
   "name": "python",
   "nbconvert_exporter": "python",
   "pygments_lexer": "ipython3",
   "version": "3.10.7"
  },
  "toc": {
   "base_numbering": 1,
   "nav_menu": {},
   "number_sections": false,
   "sideBar": true,
   "skip_h1_title": false,
   "title_cell": "Table of Contents",
   "title_sidebar": "Contents",
   "toc_cell": true,
   "toc_position": {
    "height": "calc(100% - 180px)",
    "left": "10px",
    "top": "150px",
    "width": "288px"
   },
   "toc_section_display": true,
   "toc_window_display": false
  }
 },
 "nbformat": 4,
 "nbformat_minor": 5
}
